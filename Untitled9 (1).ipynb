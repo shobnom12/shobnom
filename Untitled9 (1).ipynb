{
 "cells": [
  {
   "cell_type": "code",
   "execution_count": 6,
   "metadata": {},
   "outputs": [
    {
     "name": "stdout",
     "output_type": "stream",
     "text": [
      "2004\n",
      "2006\n",
      "2008\n",
      "2011\n",
      "2013\n",
      "2015\n",
      "2017\n",
      "2019\n",
      "2020\n",
      "2022\n"
     ]
    }
   ],
   "source": [
    "year=2003\n",
    "c_year=2023\n",
    "\n",
    "for i in range(year,c_year):\n",
    "    n=i\n",
    "    sum=0\n",
    "    while (n!=0):\n",
    "        r=n%10\n",
    "        sum=sum+r\n",
    "        n=n//10\n",
    "    if(sum%2==0):\n",
    "        print(i)"
   ]
  },
  {
   "cell_type": "code",
   "execution_count": null,
   "metadata": {},
   "outputs": [],
   "source": []
  },
  {
   "cell_type": "code",
   "execution_count": null,
   "metadata": {},
   "outputs": [],
   "source": []
  }
 ],
 "metadata": {
  "kernelspec": {
   "display_name": "Python 3",
   "language": "python",
   "name": "python3"
  },
  "language_info": {
   "codemirror_mode": {
    "name": "ipython",
    "version": 3
   },
   "file_extension": ".py",
   "mimetype": "text/x-python",
   "name": "python",
   "nbconvert_exporter": "python",
   "pygments_lexer": "ipython3",
   "version": "3.7.6"
  }
 },
 "nbformat": 4,
 "nbformat_minor": 4
}
