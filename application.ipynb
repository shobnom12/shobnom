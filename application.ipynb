{
 "cells": [
  {
   "cell_type": "code",
   "execution_count": 7,
   "metadata": {},
   "outputs": [
    {
     "name": "stdout",
     "output_type": "stream",
     "text": [
      "ITEM_DETAILS\n",
      "mouse monitor pc mouse1 monitor1 pc1 mouse2 monitor2 pc2 mouse3 monitor3 pc3 mouse4 monitor4 pc4 mouse5 monitor5 pc5 mouse6 monito6r "
     ]
    },
    {
     "name": "stdin",
     "output_type": "stream",
     "text": [
      "enter the item name: mouse\n",
      "enter the item quantity: 2\n"
     ]
    },
    {
     "name": "stdout",
     "output_type": "stream",
     "text": [
      "Available\n",
      "orderid:56789 item: mouse quantity 2 \n",
      "place order\n"
     ]
    }
   ],
   "source": [
    "dict={}\n",
    "keys=[\"id_1\",\"id_2\",\"id_3\",\"id_4\",\"id_5\",\"id_6\",\"id_7\",\"id_8\",\"id_9\",\"id_10\",\"id_11\",\"id_12\",\"id_13\",\"id_14\",\"id_15\",\"id_16\",\"id_17\",\"id_18\",\"id_19\",\"id_20\"]\n",
    "item_d=[\"mouse\",\"monitor\",\"pc\",\"mouse1\",\"monitor1\",\"pc1\",\"mouse2\",\"monitor2\",\"pc2\",\"mouse3\",\"monitor3\",\"pc3\",\"mouse4\",\"monitor4\",\"pc4\",\"mouse5\",\"monitor5\",\"pc5\",\"mouse6\",\"monito6r\"]\n",
    "quantity=[11,22,33,44,12,34,56,78,89,45,11,22,33,44,12,34,56,78,8,45]\n",
    "mrp=[489,90,78,56,78,489,90,78,56,78,782,567,6774,346,6782,782,567,6774,346,6782]\n",
    "order_id=0\n",
    "for i in range(len(keys)):\n",
    "        dict[keys[i]]=[item_d[i],quantity[i],mrp[i]]\n",
    "   \n",
    "print(\"ITEM_DETAILS\")\n",
    "for i in dict:\n",
    "        print(dict[i][0],end=\" \") \n",
    "\n",
    "def place_order(use_i,use_q,dict):\n",
    "    a_i=0\n",
    "    \n",
    "    for i in dict:\n",
    "        if use_i==dict[i][0] and use_q <= dict[i][1]:\n",
    "            print(\"Available\")\n",
    "            order_id=\"56789\"\n",
    "            f = open('order_id_2.txt', 'a')\n",
    "            f.write(\"orderid:{} item: {} quantity {} \".format(order_id,str(use_i),str(use_q)))\n",
    "            f.close()\n",
    "            f = open('order_id_2.txt', 'r')\n",
    "            file=f.read()\n",
    "            print(file)\n",
    "            f.close()\n",
    "            print(\"place order\")\n",
    "            dict[i][1]=dict[i][1]-use_q\n",
    "            a_i=1\n",
    "            break\n",
    "        else:\n",
    "            a_i=0\n",
    " \n",
    " \n",
    "use_i=input(\"enter the item name:\")\n",
    "use_q=int(input(\"enter the item quantity:\"))\n",
    "place_order(use_i,use_q,dict)"
   ]
  },
  {
   "cell_type": "code",
   "execution_count": null,
   "metadata": {},
   "outputs": [],
   "source": []
  }
 ],
 "metadata": {
  "kernelspec": {
   "display_name": "Python 3",
   "language": "python",
   "name": "python3"
  },
  "language_info": {
   "codemirror_mode": {
    "name": "ipython",
    "version": 3
   },
   "file_extension": ".py",
   "mimetype": "text/x-python",
   "name": "python",
   "nbconvert_exporter": "python",
   "pygments_lexer": "ipython3",
   "version": "3.7.6"
  }
 },
 "nbformat": 4,
 "nbformat_minor": 4
}
