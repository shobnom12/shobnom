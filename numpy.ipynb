{
 "cells": [
  {
   "cell_type": "code",
   "execution_count": 1,
   "metadata": {},
   "outputs": [],
   "source": [
    "import numpy as np"
   ]
  },
  {
   "cell_type": "code",
   "execution_count": 9,
   "metadata": {},
   "outputs": [
    {
     "data": {
      "text/plain": [
       "array([0., 0., 0., 0., 0., 1., 0., 0., 0., 0.])"
      ]
     },
     "execution_count": 9,
     "metadata": {},
     "output_type": "execute_result"
    }
   ],
   "source": [
    "arr=np.zeros(10)\n",
    "arr[5]=1\n",
    "arr"
   ]
  },
  {
   "cell_type": "code",
   "execution_count": 15,
   "metadata": {},
   "outputs": [
    {
     "data": {
      "text/plain": [
       "array([26, 45, 11, 47, 31, 14, 41, 24, 47, 37])"
      ]
     },
     "execution_count": 15,
     "metadata": {},
     "output_type": "execute_result"
    }
   ],
   "source": [
    "arr1=np.random.randint(10,49,size=(10))\n",
    "arr1"
   ]
  },
  {
   "cell_type": "code",
   "execution_count": 16,
   "metadata": {},
   "outputs": [
    {
     "data": {
      "text/plain": [
       "array([37, 47, 24, 41, 14, 31, 47, 11, 45, 26])"
      ]
     },
     "execution_count": 16,
     "metadata": {},
     "output_type": "execute_result"
    }
   ],
   "source": [
    "np.flip(arr1)"
   ]
  },
  {
   "cell_type": "code",
   "execution_count": 17,
   "metadata": {},
   "outputs": [
    {
     "data": {
      "text/plain": [
       "array([[5, 2, 7],\n",
       "       [3, 5, 0],\n",
       "       [3, 0, 0]])"
      ]
     },
     "execution_count": 17,
     "metadata": {},
     "output_type": "execute_result"
    }
   ],
   "source": [
    "arr2=np.random.randint(0,8,size=(3,3))\n",
    "arr2"
   ]
  },
  {
   "cell_type": "code",
   "execution_count": 21,
   "metadata": {},
   "outputs": [
    {
     "data": {
      "text/plain": [
       "(array([0, 1, 4]),)"
      ]
     },
     "execution_count": 21,
     "metadata": {},
     "output_type": "execute_result"
    }
   ],
   "source": [
    "arr3=np.array([1,2,0,0,4,0])\n",
    "np.nonzero(arr3)\n"
   ]
  },
  {
   "cell_type": "code",
   "execution_count": 24,
   "metadata": {},
   "outputs": [
    {
     "data": {
      "text/plain": [
       "array([[[0.32770386, 0.19733857, 0.92548409],\n",
       "        [0.68374914, 0.76184228, 0.70113248],\n",
       "        [0.699878  , 0.70735942, 0.559383  ]],\n",
       "\n",
       "       [[0.75402643, 0.66891688, 0.09126076],\n",
       "        [0.29987854, 0.52686491, 0.48337888],\n",
       "        [0.63979691, 0.51535993, 0.79933034]],\n",
       "\n",
       "       [[0.46234512, 0.18468277, 0.66072242],\n",
       "        [0.13948866, 0.2346317 , 0.74811158],\n",
       "        [0.47821836, 0.18002332, 0.5956192 ]]])"
      ]
     },
     "execution_count": 24,
     "metadata": {},
     "output_type": "execute_result"
    }
   ],
   "source": [
    "np.random.rand(3,3,3)"
   ]
  },
  {
   "cell_type": "code",
   "execution_count": 29,
   "metadata": {},
   "outputs": [
    {
     "data": {
      "text/plain": [
       "array([[0.23664216, 0.36760349, 0.4686049 , 0.13026618, 0.80113506,\n",
       "        0.27809579, 0.39898635, 0.87357689, 0.02789867, 0.5429236 ],\n",
       "       [0.40876643, 0.28367793, 0.96176647, 0.71017798, 0.22646364,\n",
       "        0.34082344, 0.93890865, 0.3031183 , 0.06622567, 0.41058407],\n",
       "       [0.01247067, 0.35249231, 0.60728372, 0.7445011 , 0.66212432,\n",
       "        0.75009244, 0.57443936, 0.15472513, 0.97430763, 0.89076875],\n",
       "       [0.05096584, 0.2404668 , 0.67975596, 0.4758048 , 0.03470688,\n",
       "        0.45145309, 0.55837784, 0.35998363, 0.72746799, 0.25636182],\n",
       "       [0.11910748, 0.69087963, 0.5101969 , 0.20109057, 0.39687218,\n",
       "        0.95130815, 0.25644435, 0.49549812, 0.02599121, 0.06683265],\n",
       "       [0.09902296, 0.74565736, 0.67131159, 0.84995001, 0.26741251,\n",
       "        0.34040163, 0.1770126 , 0.51081066, 0.34614408, 0.93884584],\n",
       "       [0.78577649, 0.66923955, 0.67176201, 0.82914767, 0.07622401,\n",
       "        0.04227922, 0.98123305, 0.04708635, 0.43916105, 0.2547255 ],\n",
       "       [0.1127041 , 0.41729317, 0.00554843, 0.64633408, 0.775058  ,\n",
       "        0.61123758, 0.90788735, 0.20034152, 0.52419737, 0.4142755 ],\n",
       "       [0.30784001, 0.66559647, 0.4791034 , 0.50536314, 0.90679567,\n",
       "        0.21179982, 0.54865714, 0.44016791, 0.12543685, 0.7105488 ],\n",
       "       [0.4109908 , 0.03286274, 0.0391603 , 0.60907206, 0.66043042,\n",
       "        0.81670544, 0.31876141, 0.25245909, 0.10804992, 0.17560193]])"
      ]
     },
     "execution_count": 29,
     "metadata": {},
     "output_type": "execute_result"
    }
   ],
   "source": [
    "arr5=np.random.rand(10,10)\n",
    "arr5"
   ]
  },
  {
   "cell_type": "code",
   "execution_count": 30,
   "metadata": {},
   "outputs": [
    {
     "data": {
      "text/plain": [
       "0.005548434621364451"
      ]
     },
     "execution_count": 30,
     "metadata": {},
     "output_type": "execute_result"
    }
   ],
   "source": [
    "np.min(arr5)"
   ]
  },
  {
   "cell_type": "code",
   "execution_count": 31,
   "metadata": {},
   "outputs": [
    {
     "data": {
      "text/plain": [
       "0.9812330542990181"
      ]
     },
     "execution_count": 31,
     "metadata": {},
     "output_type": "execute_result"
    }
   ],
   "source": [
    "np.max(arr5)"
   ]
  },
  {
   "cell_type": "code",
   "execution_count": 45,
   "metadata": {},
   "outputs": [
    {
     "data": {
      "text/plain": [
       "array([[0., 0., 0.],\n",
       "       [0., 0., 0.],\n",
       "       [0., 0., 0.]])"
      ]
     },
     "execution_count": 45,
     "metadata": {},
     "output_type": "execute_result"
    }
   ],
   "source": [
    "n=3\n",
    "m=3\n",
    "arr6=np.zeros((n,m))\n",
    "arr6"
   ]
  },
  {
   "cell_type": "code",
   "execution_count": 43,
   "metadata": {},
   "outputs": [],
   "source": [
    "arr6[0,:]=1\n",
    "arr6[:,1]=1\n",
    "arr6[n-1,:]=1\n",
    "arr6[:,m-1]=1"
   ]
  },
  {
   "cell_type": "code",
   "execution_count": 44,
   "metadata": {},
   "outputs": [
    {
     "data": {
      "text/plain": [
       "array([[1., 1., 1.],\n",
       "       [0., 1., 1.],\n",
       "       [1., 1., 1.]])"
      ]
     },
     "execution_count": 44,
     "metadata": {},
     "output_type": "execute_result"
    }
   ],
   "source": [
    "arr6"
   ]
  },
  {
   "cell_type": "code",
   "execution_count": null,
   "metadata": {},
   "outputs": [],
   "source": []
  }
 ],
 "metadata": {
  "kernelspec": {
   "display_name": "Python 3",
   "language": "python",
   "name": "python3"
  },
  "language_info": {
   "codemirror_mode": {
    "name": "ipython",
    "version": 3
   },
   "file_extension": ".py",
   "mimetype": "text/x-python",
   "name": "python",
   "nbconvert_exporter": "python",
   "pygments_lexer": "ipython3",
   "version": "3.7.6"
  }
 },
 "nbformat": 4,
 "nbformat_minor": 4
}
