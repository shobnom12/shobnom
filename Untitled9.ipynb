{
 "cells": [
  {
   "cell_type": "code",
   "execution_count": 2,
   "metadata": {},
   "outputs": [
    {
     "name": "stdout",
     "output_type": "stream",
     "text": [
      "2003 3\n",
      "2003 3\n",
      "2003 3\n",
      "2003 5\n",
      "2004 9\n",
      "2004 9\n",
      "2004 9\n",
      "2004 11\n",
      "2005 16\n",
      "2005 16\n",
      "2005 16\n",
      "2005 18\n",
      "2005\n",
      "2006 24\n",
      "2006 24\n",
      "2006 24\n",
      "2006 26\n",
      "2006\n",
      "2007 33\n",
      "2007 33\n",
      "2007 33\n",
      "2007 35\n",
      "2008 43\n",
      "2008 43\n",
      "2008 43\n",
      "2008 45\n",
      "2009 54\n",
      "2009 54\n",
      "2009 54\n",
      "2009 56\n",
      "2009\n",
      "2010 56\n",
      "2010 57\n",
      "2010 57\n",
      "2010 59\n",
      "2011 60\n",
      "2011 61\n",
      "2011 61\n",
      "2011 63\n",
      "2012 65\n",
      "2012 66\n",
      "2012 66\n",
      "2012 68\n",
      "2012\n",
      "2013 71\n",
      "2013 72\n",
      "2013 72\n",
      "2013 74\n",
      "2013\n",
      "2014 78\n",
      "2014 79\n",
      "2014 79\n",
      "2014 81\n",
      "2015 86\n",
      "2015 87\n",
      "2015 87\n",
      "2015 89\n",
      "2016 95\n",
      "2016 96\n",
      "2016 96\n",
      "2016 98\n",
      "2016\n",
      "2017 105\n",
      "2017 106\n",
      "2017 106\n",
      "2017 108\n",
      "2017\n",
      "2018 116\n",
      "2018 117\n",
      "2018 117\n",
      "2018 119\n",
      "2019 128\n",
      "2019 129\n",
      "2019 129\n",
      "2019 131\n",
      "2020 131\n",
      "2020 133\n",
      "2020 133\n",
      "2020 135\n",
      "2021 136\n",
      "2021 138\n",
      "2021 138\n",
      "2021 140\n",
      "2021\n",
      "2022 142\n",
      "2022 144\n",
      "2022 144\n",
      "2022 146\n",
      "2022\n"
     ]
    }
   ],
   "source": [
    "year=2003\n",
    "c_year=2023\n",
    "\n",
    "for i in range(year,c_year):\n",
    "    n=i\n",
    "    sum=0\n",
    "    while (n!=0):\n",
    "        r=n%10\n",
    "        sum=sum+r\n",
    "        n=n//10\n",
    "        print(i,sum)\n",
    "    if(sum%2==0):\n",
    "        print(i)"
   ]
  },
  {
   "cell_type": "code",
   "execution_count": 1,
   "metadata": {},
   "outputs": [
    {
     "ename": "TypeError",
     "evalue": "object of type 'int' has no len()",
     "output_type": "error",
     "traceback": [
      "\u001b[0;31m---------------------------------------------------------------------------\u001b[0m",
      "\u001b[0;31mTypeError\u001b[0m                                 Traceback (most recent call last)",
      "\u001b[0;32m<ipython-input-1-143f6c8131f5>\u001b[0m in \u001b[0;36m<module>\u001b[0;34m\u001b[0m\n\u001b[1;32m      1\u001b[0m \u001b[0myear\u001b[0m\u001b[0;34m=\u001b[0m\u001b[0;36m2003\u001b[0m\u001b[0;34m\u001b[0m\u001b[0;34m\u001b[0m\u001b[0m\n\u001b[1;32m      2\u001b[0m \u001b[0mc_year\u001b[0m\u001b[0;34m=\u001b[0m\u001b[0;36m2023\u001b[0m\u001b[0;34m\u001b[0m\u001b[0;34m\u001b[0m\u001b[0m\n\u001b[0;32m----> 3\u001b[0;31m \u001b[0mlen\u001b[0m\u001b[0;34m(\u001b[0m\u001b[0myear\u001b[0m\u001b[0;34m)\u001b[0m\u001b[0;34m\u001b[0m\u001b[0;34m\u001b[0m\u001b[0m\n\u001b[0m",
      "\u001b[0;31mTypeError\u001b[0m: object of type 'int' has no len()"
     ]
    }
   ],
   "source": [
    "year=2003\n",
    "c_year=2023"
   ]
  },
  {
   "cell_type": "code",
   "execution_count": null,
   "metadata": {},
   "outputs": [],
   "source": []
  }
 ],
 "metadata": {
  "kernelspec": {
   "display_name": "Python 3",
   "language": "python",
   "name": "python3"
  },
  "language_info": {
   "codemirror_mode": {
    "name": "ipython",
    "version": 3
   },
   "file_extension": ".py",
   "mimetype": "text/x-python",
   "name": "python",
   "nbconvert_exporter": "python",
   "pygments_lexer": "ipython3",
   "version": "3.7.6"
  }
 },
 "nbformat": 4,
 "nbformat_minor": 4
}
