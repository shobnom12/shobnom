{
 "cells": [
  {
   "cell_type": "code",
   "execution_count": null,
   "metadata": {},
   "outputs": [],
   "source": []
  },
  {
   "cell_type": "code",
   "execution_count": null,
   "metadata": {},
   "outputs": [],
   "source": []
  },
  {
   "cell_type": "code",
   "execution_count": 18,
   "metadata": {},
   "outputs": [],
   "source": [
    "employee = ['John', 'Mary', 'Krishna', 'Namesh', 'Aastha', 'Jason', 'Kavita', 'Ravi', 'Shruti', 'Shubham'] \n",
    "salaries = (10000, 12000, 13000, 18500, 11000, 19800, 20000, 23500, 19450, 8000)\n",
    "ratings = (2.3, 4.7, 4.3, 9.9, 8.4, 6.1, 6.1, 4.0, 8.8, 9.3)"
   ]
  },
  {
   "cell_type": "code",
   "execution_count": 19,
   "metadata": {},
   "outputs": [
    {
     "name": "stdout",
     "output_type": "stream",
     "text": [
      "{1: '8', ('John', 'Mary', 'Krishna', 'Namesh', 'Aastha', 'Jason', 'Kavita', 'Ravi', 'Shruti', 'Shubham'): 22756.5}\n"
     ]
    }
   ],
   "source": [
    "\n",
    "for i in range(len(employee)):\n",
    "    if(ratings[i] > 3 and ratings[i] <5):\n",
    "        my_dict.update({tuple(employee): salaries[i]+salaries[i]*3/100})\n",
    "    elif(ratings[i] > 5 and ratings[i] <7):\n",
    "        my_dict.update({tuple(employee): salaries[i]+salaries[i]*5/100})\n",
    "    elif(ratings[i] > 7 and ratings[i] <9):\n",
    "        my_dict.update({tuple(employee): salaries[i]+salaries[i]*7/100+salaries[i]*10/100})\n",
    "print(my_dict)"
   ]
  },
  {
   "cell_type": "code",
   "execution_count": null,
   "metadata": {},
   "outputs": [],
   "source": []
  },
  {
   "cell_type": "code",
   "execution_count": null,
   "metadata": {},
   "outputs": [],
   "source": []
  }
 ],
 "metadata": {
  "kernelspec": {
   "display_name": "Python 3",
   "language": "python",
   "name": "python3"
  },
  "language_info": {
   "codemirror_mode": {
    "name": "ipython",
    "version": 3
   },
   "file_extension": ".py",
   "mimetype": "text/x-python",
   "name": "python",
   "nbconvert_exporter": "python",
   "pygments_lexer": "ipython3",
   "version": "3.7.6"
  }
 },
 "nbformat": 4,
 "nbformat_minor": 4
}
